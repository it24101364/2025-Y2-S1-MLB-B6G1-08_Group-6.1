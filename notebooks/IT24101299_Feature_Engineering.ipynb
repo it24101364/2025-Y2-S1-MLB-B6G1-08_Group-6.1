{
  "nbformat": 4,
  "nbformat_minor": 0,
  "metadata": {
    "colab": {
      "provenance": []
    },
    "kernelspec": {
      "name": "python3",
      "display_name": "Python 3"
    },
    "language_info": {
      "name": "python"
    }
  },
  "cells": [
    {
      "cell_type": "markdown",
      "source": [
        "**Import necessary libraries**"
      ],
      "metadata": {
        "id": "7tW9_fjQuwXW"
      }
    },
    {
      "cell_type": "code",
      "source": [
        "import pandas as pd\n",
        "import numpy as np\n",
        "import seaborn as sns\n",
        "import matplotlib.pyplot as plt\n",
        "%matplotlib inline\n",
        "sns.set(color_codes=True)"
      ],
      "metadata": {
        "id": "58ptM236pzyJ"
      },
      "execution_count": null,
      "outputs": []
    },
    {
      "cell_type": "code",
      "source": [
        "# Load dataset\n",
        "df = pd.read_csv(\"/content/heart_disease.csv\")"
      ],
      "metadata": {
        "id": "8dB5pYAap6IY"
      },
      "execution_count": null,
      "outputs": []
    },
    {
      "cell_type": "markdown",
      "source": [
        "# **01) Data Cleaning**"
      ],
      "metadata": {
        "id": "ZTkBnsnMvOVZ"
      }
    },
    {
      "cell_type": "markdown",
      "source": [
        "## **1.1 Identify Missing Values**"
      ],
      "metadata": {
        "id": "FwWvbQSLv5CT"
      }
    },
    {
      "cell_type": "code",
      "source": [
        "# === Before cleaning ===\n",
        "print(\"Total rows:\", df.shape[0])\n",
        "print(df['Heart Disease Status'].value_counts())\n",
        "print(\"Null values per column:\\n\", df.isnull().sum())"
      ],
      "metadata": {
        "colab": {
          "base_uri": "https://localhost:8080/"
        },
        "id": "4cSzE0Aqsoy-",
        "outputId": "48e826cb-8c80-48de-fcab-7d18a7d35fb3"
      },
      "execution_count": null,
      "outputs": [
        {
          "output_type": "stream",
          "name": "stdout",
          "text": [
            "Total rows: 7067\n",
            "Heart Disease Status\n",
            "No     5632\n",
            "Yes    1435\n",
            "Name: count, dtype: int64\n",
            "Null values per column:\n",
            " Age                     0\n",
            "Gender                  0\n",
            "Blood Pressure          0\n",
            "Cholesterol Level       0\n",
            "Exercise Habits         0\n",
            "Smoking                 0\n",
            "Family Heart Disease    0\n",
            "Diabetes                0\n",
            "BMI                     0\n",
            "High Blood Pressure     0\n",
            "Low HDL Cholesterol     0\n",
            "High LDL Cholesterol    0\n",
            "Alcohol Consumption     0\n",
            "Stress Level            0\n",
            "Sleep Hours             0\n",
            "Sugar Consumption       0\n",
            "Triglyceride Level      0\n",
            "Fasting Blood Sugar     0\n",
            "CRP Level               0\n",
            "Homocysteine Level      0\n",
            "Heart Disease Status    0\n",
            "dtype: int64\n"
          ]
        }
      ]
    },
    {
      "cell_type": "markdown",
      "source": [
        "## **1.2 Remove Null Values**"
      ],
      "metadata": {
        "id": "4gmYJZRzv98C"
      }
    },
    {
      "cell_type": "code",
      "source": [
        "before_rows = df.shape[0]\n",
        "df = df.dropna()\n",
        "after_rows = df.shape[0]\n",
        "\n",
        "print(\"Total rows:\", after_rows)\n",
        "print(df['Heart Disease Status'].value_counts())\n",
        "print(f\"Removed {before_rows - after_rows} rows containing null values.\")"
      ],
      "metadata": {
        "colab": {
          "base_uri": "https://localhost:8080/"
        },
        "id": "27L52tgQs3an",
        "outputId": "aaaaa933-2e2e-41cc-9ac3-ece8ddf0dae6"
      },
      "execution_count": null,
      "outputs": [
        {
          "output_type": "stream",
          "name": "stdout",
          "text": [
            "Total rows: 7067\n",
            "Heart Disease Status\n",
            "No     5632\n",
            "Yes    1435\n",
            "Name: count, dtype: int64\n",
            "Removed 0 rows containing null values.\n"
          ]
        }
      ]
    },
    {
      "cell_type": "markdown",
      "source": [
        "## **1.3 Balance Dataset**"
      ],
      "metadata": {
        "id": "2W4Q2exEzUQ8"
      }
    },
    {
      "cell_type": "code",
      "execution_count": null,
      "metadata": {
        "id": "AmBPGYPJ8fJA",
        "outputId": "756d2faa-012c-4a26-bf11-8f1585bc5fea",
        "colab": {
          "base_uri": "https://localhost:8080/"
        }
      },
      "outputs": [
        {
          "output_type": "stream",
          "name": "stdout",
          "text": [
            "\n",
            "=== After balancing ===\n",
            "Heart Disease Status\n",
            "Yes    1435\n",
            "No     1435\n",
            "Name: count, dtype: int64\n"
          ]
        }
      ],
      "source": [
        "# 1.2 Balance Dataset\n",
        "df_yes = df[df['Heart Disease Status'] == \"Yes\"]\n",
        "df_no = df[df['Heart Disease Status'] == \"No\"]\n",
        "\n",
        "# Match 'No' count to 'Yes' count\n",
        "df_no_sampled = df_no.sample(n=len(df_yes), random_state=42)\n",
        "\n",
        "# Combine both classes\n",
        "df_balanced = pd.concat([df_yes, df_no_sampled])\n",
        "\n",
        "# Shuffle dataset\n",
        "df_balanced = df_balanced.sample(frac=1, random_state=42).reset_index(drop=True)\n",
        "\n",
        "# Final balance check\n",
        "print(\"\\n=== After balancing ===\")\n",
        "print(df_balanced['Heart Disease Status'].value_counts())\n"
      ]
    },
    {
      "cell_type": "markdown",
      "source": [
        "## **1.4 Detecting the Duplicates**"
      ],
      "metadata": {
        "id": "5YqZNSvfzxtw"
      }
    },
    {
      "cell_type": "code",
      "source": [
        "duplicated_rows_df_balanced = df_balanced[df_balanced.duplicated()]\n",
        "print(\"Number of Duplicated Rows: \",duplicated_rows_df_balanced.shape)"
      ],
      "metadata": {
        "colab": {
          "base_uri": "https://localhost:8080/"
        },
        "id": "RXG5AEyjcjJl",
        "outputId": "39afdf22-728d-4e2c-a969-0ff36332901f"
      },
      "execution_count": null,
      "outputs": [
        {
          "output_type": "stream",
          "name": "stdout",
          "text": [
            "Number of Duplicated Rows:  (0, 21)\n"
          ]
        }
      ]
    },
    {
      "cell_type": "code",
      "source": [
        "df_balanced.shape"
      ],
      "metadata": {
        "colab": {
          "base_uri": "https://localhost:8080/"
        },
        "id": "tpB4eTOrb7Kc",
        "outputId": "76f964c5-aa8b-4336-df33-947160a0c7a8"
      },
      "execution_count": null,
      "outputs": [
        {
          "output_type": "execute_result",
          "data": {
            "text/plain": [
              "(2870, 21)"
            ]
          },
          "metadata": {},
          "execution_count": 17
        }
      ]
    },
    {
      "cell_type": "code",
      "source": [
        "df_balanced.count()"
      ],
      "metadata": {
        "id": "sf3snzMEcDEp",
        "colab": {
          "base_uri": "https://localhost:8080/",
          "height": 743
        },
        "outputId": "4b297c87-e9a9-421d-d54c-bb33dd942de8"
      },
      "execution_count": null,
      "outputs": [
        {
          "output_type": "execute_result",
          "data": {
            "text/plain": [
              "Age                     2870\n",
              "Gender                  2870\n",
              "Blood Pressure          2870\n",
              "Cholesterol Level       2870\n",
              "Exercise Habits         2870\n",
              "Smoking                 2870\n",
              "Family Heart Disease    2870\n",
              "Diabetes                2870\n",
              "BMI                     2870\n",
              "High Blood Pressure     2870\n",
              "Low HDL Cholesterol     2870\n",
              "High LDL Cholesterol    2870\n",
              "Alcohol Consumption     2870\n",
              "Stress Level            2870\n",
              "Sleep Hours             2870\n",
              "Sugar Consumption       2870\n",
              "Triglyceride Level      2870\n",
              "Fasting Blood Sugar     2870\n",
              "CRP Level               2870\n",
              "Homocysteine Level      2870\n",
              "Heart Disease Status    2870\n",
              "dtype: int64"
            ],
            "text/html": [
              "<div>\n",
              "<style scoped>\n",
              "    .dataframe tbody tr th:only-of-type {\n",
              "        vertical-align: middle;\n",
              "    }\n",
              "\n",
              "    .dataframe tbody tr th {\n",
              "        vertical-align: top;\n",
              "    }\n",
              "\n",
              "    .dataframe thead th {\n",
              "        text-align: right;\n",
              "    }\n",
              "</style>\n",
              "<table border=\"1\" class=\"dataframe\">\n",
              "  <thead>\n",
              "    <tr style=\"text-align: right;\">\n",
              "      <th></th>\n",
              "      <th>0</th>\n",
              "    </tr>\n",
              "  </thead>\n",
              "  <tbody>\n",
              "    <tr>\n",
              "      <th>Age</th>\n",
              "      <td>2870</td>\n",
              "    </tr>\n",
              "    <tr>\n",
              "      <th>Gender</th>\n",
              "      <td>2870</td>\n",
              "    </tr>\n",
              "    <tr>\n",
              "      <th>Blood Pressure</th>\n",
              "      <td>2870</td>\n",
              "    </tr>\n",
              "    <tr>\n",
              "      <th>Cholesterol Level</th>\n",
              "      <td>2870</td>\n",
              "    </tr>\n",
              "    <tr>\n",
              "      <th>Exercise Habits</th>\n",
              "      <td>2870</td>\n",
              "    </tr>\n",
              "    <tr>\n",
              "      <th>Smoking</th>\n",
              "      <td>2870</td>\n",
              "    </tr>\n",
              "    <tr>\n",
              "      <th>Family Heart Disease</th>\n",
              "      <td>2870</td>\n",
              "    </tr>\n",
              "    <tr>\n",
              "      <th>Diabetes</th>\n",
              "      <td>2870</td>\n",
              "    </tr>\n",
              "    <tr>\n",
              "      <th>BMI</th>\n",
              "      <td>2870</td>\n",
              "    </tr>\n",
              "    <tr>\n",
              "      <th>High Blood Pressure</th>\n",
              "      <td>2870</td>\n",
              "    </tr>\n",
              "    <tr>\n",
              "      <th>Low HDL Cholesterol</th>\n",
              "      <td>2870</td>\n",
              "    </tr>\n",
              "    <tr>\n",
              "      <th>High LDL Cholesterol</th>\n",
              "      <td>2870</td>\n",
              "    </tr>\n",
              "    <tr>\n",
              "      <th>Alcohol Consumption</th>\n",
              "      <td>2870</td>\n",
              "    </tr>\n",
              "    <tr>\n",
              "      <th>Stress Level</th>\n",
              "      <td>2870</td>\n",
              "    </tr>\n",
              "    <tr>\n",
              "      <th>Sleep Hours</th>\n",
              "      <td>2870</td>\n",
              "    </tr>\n",
              "    <tr>\n",
              "      <th>Sugar Consumption</th>\n",
              "      <td>2870</td>\n",
              "    </tr>\n",
              "    <tr>\n",
              "      <th>Triglyceride Level</th>\n",
              "      <td>2870</td>\n",
              "    </tr>\n",
              "    <tr>\n",
              "      <th>Fasting Blood Sugar</th>\n",
              "      <td>2870</td>\n",
              "    </tr>\n",
              "    <tr>\n",
              "      <th>CRP Level</th>\n",
              "      <td>2870</td>\n",
              "    </tr>\n",
              "    <tr>\n",
              "      <th>Homocysteine Level</th>\n",
              "      <td>2870</td>\n",
              "    </tr>\n",
              "    <tr>\n",
              "      <th>Heart Disease Status</th>\n",
              "      <td>2870</td>\n",
              "    </tr>\n",
              "  </tbody>\n",
              "</table>\n",
              "</div><br><label><b>dtype:</b> int64</label>"
            ]
          },
          "metadata": {},
          "execution_count": 18
        }
      ]
    },
    {
      "cell_type": "markdown",
      "source": [
        "# **6. Feature** **Engineering**"
      ],
      "metadata": {
        "id": "vh6ePnpePk3A"
      }
    },
    {
      "cell_type": "markdown",
      "source": [
        "## **6.1 Feature Creation**"
      ],
      "metadata": {
        "id": "tWr-hfhkRDeR"
      }
    },
    {
      "cell_type": "code",
      "source": [
        "heart_df = df.groupby('Age').agg({\n",
        "    'Blood Pressure': 'mean',\n",
        "    'Cholesterol Level': 'mean',\n",
        "    'BMI': 'mean',\n",
        "    'Heart Disease Status': 'count'\n",
        "}).reset_index()\n",
        "\n",
        "# Aggregate patient data by Age to create age-level features:\n",
        "# - Average blood pressure\n",
        "# - Average cholesterol level\n",
        "# - Average BMI\n",
        "# - Count of patients (with heart disease status recorded)"
      ],
      "metadata": {
        "id": "ro9fe3zJRN3u"
      },
      "execution_count": null,
      "outputs": []
    },
    {
      "cell_type": "code",
      "source": [
        "heart_df = df_balanced.groupby('Age').agg({\n",
        "    'Blood Pressure': 'mean',\n",
        "    'Cholesterol Level': 'mean',\n",
        "    'BMI': 'mean',\n",
        "    'Heart Disease Status': 'count'\n",
        "}).reset_index()\n",
        "\n",
        "# Add composite risk score (example: average of Blood Pressure, Cholesterol Level, and BMI)\n",
        "heart_df['CompositeRiskScore'] = (heart_df['Blood Pressure'] + heart_df['Cholesterol Level'] + heart_df['BMI']) / 3\n",
        "print(heart_df.head())"
      ],
      "metadata": {
        "colab": {
          "base_uri": "https://localhost:8080/"
        },
        "id": "xIgQTUHChhoo",
        "outputId": "d0c2c3d6-5d5c-4690-e981-1085f4cea801"
      },
      "execution_count": null,
      "outputs": [
        {
          "output_type": "stream",
          "name": "stdout",
          "text": [
            "    Age  Blood Pressure  Cholesterol Level        BMI  Heart Disease Status  \\\n",
            "0  18.0      153.980000         230.480000  28.323318                    50   \n",
            "1  19.0      150.740000         223.260000  28.319386                    50   \n",
            "2  20.0      148.767442         228.581395  29.611322                    43   \n",
            "3  21.0      153.375000         226.083333  29.133938                    48   \n",
            "4  22.0      150.558140         225.976744  28.494748                    43   \n",
            "\n",
            "   CompositeRiskScore  \n",
            "0          137.594439  \n",
            "1          134.106462  \n",
            "2          135.653386  \n",
            "3          136.197424  \n",
            "4          135.009877  \n"
          ]
        }
      ]
    },
    {
      "cell_type": "markdown",
      "source": [
        "### **6.2 Recency, Frequency, Monetary (RFM) Features**"
      ],
      "metadata": {
        "id": "sWSQFM4vRvp5"
      }
    },
    {
      "cell_type": "code",
      "source": [
        "# No date column in the heart disease dataset, so no datetime conversion needed\n",
        "\n",
        "# Example: Health metrics calculation\n",
        "health_metrics = df.groupby('Age').agg({\n",
        "    'Age': lambda x: (df['Age'].max() - x.max()),\n",
        "    'Gender': 'count',\n",
        "    'Blood Pressure': lambda x: (x * df.loc[x.index, 'Cholesterol Level']).mean()\n",
        "})\n",
        "health_metrics.columns = ['AgeRecency', 'PatientCount', 'AvgBPCholProduct']"
      ],
      "metadata": {
        "id": "4v65DcxLUk54"
      },
      "execution_count": null,
      "outputs": []
    },
    {
      "cell_type": "markdown",
      "source": [
        "## **6.3 Clustering-Ready Features**"
      ],
      "metadata": {
        "id": "dawgYNeQXoXa"
      }
    },
    {
      "cell_type": "code",
      "source": [
        "from sklearn.preprocessing import StandardScaler\n",
        "scaler = StandardScaler()\n",
        "health_metrics_scaled = scaler.fit_transform(health_metrics)\n",
        "\n",
        "# Normalize health metrics features using StandardScaler:\n",
        "#  Scales AgeRecency, PatientCount, and AvgBPCholProduct values to have mean = 0 and standard deviation = 1\n",
        "#  Helps improve performance of machine learning models by removing bias from feature scale differences"
      ],
      "metadata": {
        "id": "-C72H0_KX3kU"
      },
      "execution_count": null,
      "outputs": []
    },
    {
      "cell_type": "markdown",
      "source": [
        "## **6.4 EDA Visualization**"
      ],
      "metadata": {
        "id": "OArVnbbqYAAT"
      }
    },
    {
      "cell_type": "code",
      "source": [
        "# Import required libraries\n",
        "import seaborn as sns\n",
        "import matplotlib.pyplot as plt\n",
        "\n",
        "# Duplicate heatmap (simplified) - Comment: Flag duplicates per row\n",
        "df['is_dup'] = df.duplicated(keep=False)\n",
        "sns.heatmap(df[['Blood Pressure', 'Cholesterol Level', 'BMI', 'is_dup']].head(100).corr(), annot=True)\n",
        "plt.title('Correlation Including Duplicates Flag')\n",
        "plt.show()"
      ],
      "metadata": {
        "colab": {
          "base_uri": "https://localhost:8080/",
          "height": 558
        },
        "id": "tgYgfGoIYLjG",
        "outputId": "3c006d5d-7ac8-444c-ca07-8b3751e55e09"
      },
      "execution_count": null,
      "outputs": [
        {
          "output_type": "display_data",
          "data": {
            "text/plain": [
              "<Figure size 640x480 with 2 Axes>"
            ],
            "image/png": "[encoded data removed]"
          },
          "metadata": {}
        }
      ]
    }
  ]
}
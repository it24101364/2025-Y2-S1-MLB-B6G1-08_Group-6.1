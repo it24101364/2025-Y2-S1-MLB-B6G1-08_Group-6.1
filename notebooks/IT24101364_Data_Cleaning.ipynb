{
  "nbformat": 4,
  "nbformat_minor": 0,
  "metadata": {
    "colab": {
      "provenance": []
    },
    "kernelspec": {
      "name": "python3",
      "display_name": "Python 3"
    },
    "language_info": {
      "name": "python"
    }
  },
  "cells": [
    {
      "cell_type": "markdown",
      "source": [
        "**Import necessary libraries**"
      ],
      "metadata": {
        "id": "7tW9_fjQuwXW"
      }
    },
    {
      "cell_type": "code",
      "source": [
        "import pandas as pd\n",
        "import numpy as np\n",
        "import seaborn as sns\n",
        "import matplotlib.pyplot as plt\n",
        "%matplotlib inline\n",
        "sns.set(color_codes=True)"
      ],
      "metadata": {
        "id": "58ptM236pzyJ"
      },
      "execution_count": 2,
      "outputs": []
    },
    {
      "cell_type": "code",
      "source": [
        "# Load dataset\n",
        "df = pd.read_csv(\"/content/heart_disease.csv\")"
      ],
      "metadata": {
        "id": "8dB5pYAap6IY"
      },
      "execution_count": 4,
      "outputs": []
    },
    {
      "cell_type": "markdown",
      "source": [
        "# **01) Data Cleaning**"
      ],
      "metadata": {
        "id": "ZTkBnsnMvOVZ"
      }
    },
    {
      "cell_type": "markdown",
      "source": [
        "## **1.1 Identify Missing Values**"
      ],
      "metadata": {
        "id": "FwWvbQSLv5CT"
      }
    },
    {
      "cell_type": "code",
      "source": [
        "# === Before cleaning ===\n",
        "print(\"Total rows:\", df.shape[0])\n",
        "print(df['Heart Disease Status'].value_counts())\n",
        "print(\"Null values per column:\\n\", df.isnull().sum())"
      ],
      "metadata": {
        "colab": {
          "base_uri": "https://localhost:8080/"
        },
        "id": "4cSzE0Aqsoy-",
        "outputId": "ffcaa530-7130-496e-eda7-94534b07f031"
      },
      "execution_count": 5,
      "outputs": [
        {
          "output_type": "stream",
          "name": "stdout",
          "text": [
            "Total rows: 10000\n",
            "Heart Disease Status\n",
            "No     8000\n",
            "Yes    2000\n",
            "Name: count, dtype: int64\n",
            "Null values per column:\n",
            " Age                       29\n",
            "Gender                    19\n",
            "Blood Pressure            19\n",
            "Cholesterol Level         30\n",
            "Exercise Habits           25\n",
            "Smoking                   25\n",
            "Family Heart Disease      21\n",
            "Diabetes                  30\n",
            "BMI                       22\n",
            "High Blood Pressure       26\n",
            "Low HDL Cholesterol       25\n",
            "High LDL Cholesterol      26\n",
            "Alcohol Consumption     2586\n",
            "Stress Level              22\n",
            "Sleep Hours               25\n",
            "Sugar Consumption         30\n",
            "Triglyceride Level        26\n",
            "Fasting Blood Sugar       22\n",
            "CRP Level                 26\n",
            "Homocysteine Level        20\n",
            "Heart Disease Status       0\n",
            "dtype: int64\n"
          ]
        }
      ]
    },
    {
      "cell_type": "markdown",
      "source": [
        "## **1.2 Remove Null Values**"
      ],
      "metadata": {
        "id": "4gmYJZRzv98C"
      }
    },
    {
      "cell_type": "code",
      "source": [
        "before_rows = df.shape[0]\n",
        "df = df.dropna()\n",
        "after_rows = df.shape[0]\n",
        "\n",
        "print(\"Total rows:\", after_rows)\n",
        "print(df['Heart Disease Status'].value_counts())\n",
        "print(f\"Removed {before_rows - after_rows} rows containing null values.\")"
      ],
      "metadata": {
        "colab": {
          "base_uri": "https://localhost:8080/"
        },
        "id": "27L52tgQs3an",
        "outputId": "98401984-41c9-4d69-e79a-39588a105402"
      },
      "execution_count": 6,
      "outputs": [
        {
          "output_type": "stream",
          "name": "stdout",
          "text": [
            "Total rows: 7067\n",
            "Heart Disease Status\n",
            "No     5632\n",
            "Yes    1435\n",
            "Name: count, dtype: int64\n",
            "Removed 2933 rows containing null values.\n"
          ]
        }
      ]
    },
    {
      "cell_type": "markdown",
      "source": [
        "## **1.3 Balance Dataset**"
      ],
      "metadata": {
        "id": "2W4Q2exEzUQ8"
      }
    },
    {
      "cell_type": "code",
      "execution_count": 7,
      "metadata": {
        "id": "AmBPGYPJ8fJA",
        "outputId": "764b1bdc-08e7-4b66-901f-49b899f893ee",
        "colab": {
          "base_uri": "https://localhost:8080/"
        }
      },
      "outputs": [
        {
          "output_type": "stream",
          "name": "stdout",
          "text": [
            "\n",
            "=== After balancing ===\n",
            "Heart Disease Status\n",
            "Yes    1435\n",
            "No     1435\n",
            "Name: count, dtype: int64\n"
          ]
        }
      ],
      "source": [
        "# 1.2 Balance Dataset\n",
        "df_yes = df[df['Heart Disease Status'] == \"Yes\"]\n",
        "df_no = df[df['Heart Disease Status'] == \"No\"]\n",
        "\n",
        "# Match 'No' count to 'Yes' count\n",
        "df_no_sampled = df_no.sample(n=len(df_yes), random_state=42)\n",
        "\n",
        "# Combine both classes\n",
        "df_balanced = pd.concat([df_yes, df_no_sampled])\n",
        "\n",
        "# Shuffle dataset\n",
        "df_balanced = df_balanced.sample(frac=1, random_state=42).reset_index(drop=True)\n",
        "\n",
        "# Final balance check\n",
        "print(\"\\n=== After balancing ===\")\n",
        "print(df_balanced['Heart Disease Status'].value_counts())\n"
      ]
    },
    {
      "cell_type": "markdown",
      "source": [
        "## **1.4 Detecting the Duplicates**"
      ],
      "metadata": {
        "id": "5YqZNSvfzxtw"
      }
    },
    {
      "cell_type": "code",
      "source": [
        "duplicated_rows_df_balanced = df_balanced[df_balanced.duplicated()]\n",
        "print(\"Number of Duplicated Rows: \",duplicated_rows_df_balanced.shape)"
      ],
      "metadata": {
        "colab": {
          "base_uri": "https://localhost:8080/"
        },
        "id": "RXG5AEyjcjJl",
        "outputId": "bff45bc0-4151-49f6-c30d-ea1105d879ee"
      },
      "execution_count": null,
      "outputs": [
        {
          "output_type": "stream",
          "name": "stdout",
          "text": [
            "Number of Duplicated Rows:  (0, 21)\n"
          ]
        }
      ]
    },
    {
      "cell_type": "code",
      "source": [
        "df_balanced.shape"
      ],
      "metadata": {
        "colab": {
          "base_uri": "https://localhost:8080/"
        },
        "id": "tpB4eTOrb7Kc",
        "outputId": "bec85804-d13a-45cb-bb2c-ccf371c8176a"
      },
      "execution_count": null,
      "outputs": [
        {
          "output_type": "execute_result",
          "data": {
            "text/plain": [
              "(2870, 21)"
            ]
          },
          "metadata": {},
          "execution_count": 32
        }
      ]
    },
    {
      "cell_type": "code",
      "source": [
        "df_balanced.count()"
      ],
      "metadata": {
        "id": "sf3snzMEcDEp",
        "colab": {
          "base_uri": "https://localhost:8080/",
          "height": 742
        },
        "outputId": "fa7b979e-386a-4566-f827-312eb8cea601"
      },
      "execution_count": null,
      "outputs": [
        {
          "output_type": "execute_result",
          "data": {
            "text/plain": [
              "Age                     2870\n",
              "Gender                  2870\n",
              "Blood Pressure          2870\n",
              "Cholesterol Level       2870\n",
              "Exercise Habits         2870\n",
              "Smoking                 2870\n",
              "Family Heart Disease    2870\n",
              "Diabetes                2870\n",
              "BMI                     2870\n",
              "High Blood Pressure     2870\n",
              "Low HDL Cholesterol     2870\n",
              "High LDL Cholesterol    2870\n",
              "Alcohol Consumption     2870\n",
              "Stress Level            2870\n",
              "Sleep Hours             2870\n",
              "Sugar Consumption       2870\n",
              "Triglyceride Level      2870\n",
              "Fasting Blood Sugar     2870\n",
              "CRP Level               2870\n",
              "Homocysteine Level      2870\n",
              "Heart Disease Status    2870\n",
              "dtype: int64"
            ],
            "text/html": [
              "<div>\n",
              "<style scoped>\n",
              "    .dataframe tbody tr th:only-of-type {\n",
              "        vertical-align: middle;\n",
              "    }\n",
              "\n",
              "    .dataframe tbody tr th {\n",
              "        vertical-align: top;\n",
              "    }\n",
              "\n",
              "    .dataframe thead th {\n",
              "        text-align: right;\n",
              "    }\n",
              "</style>\n",
              "<table border=\"1\" class=\"dataframe\">\n",
              "  <thead>\n",
              "    <tr style=\"text-align: right;\">\n",
              "      <th></th>\n",
              "      <th>0</th>\n",
              "    </tr>\n",
              "  </thead>\n",
              "  <tbody>\n",
              "    <tr>\n",
              "      <th>Age</th>\n",
              "      <td>2870</td>\n",
              "    </tr>\n",
              "    <tr>\n",
              "      <th>Gender</th>\n",
              "      <td>2870</td>\n",
              "    </tr>\n",
              "    <tr>\n",
              "      <th>Blood Pressure</th>\n",
              "      <td>2870</td>\n",
              "    </tr>\n",
              "    <tr>\n",
              "      <th>Cholesterol Level</th>\n",
              "      <td>2870</td>\n",
              "    </tr>\n",
              "    <tr>\n",
              "      <th>Exercise Habits</th>\n",
              "      <td>2870</td>\n",
              "    </tr>\n",
              "    <tr>\n",
              "      <th>Smoking</th>\n",
              "      <td>2870</td>\n",
              "    </tr>\n",
              "    <tr>\n",
              "      <th>Family Heart Disease</th>\n",
              "      <td>2870</td>\n",
              "    </tr>\n",
              "    <tr>\n",
              "      <th>Diabetes</th>\n",
              "      <td>2870</td>\n",
              "    </tr>\n",
              "    <tr>\n",
              "      <th>BMI</th>\n",
              "      <td>2870</td>\n",
              "    </tr>\n",
              "    <tr>\n",
              "      <th>High Blood Pressure</th>\n",
              "      <td>2870</td>\n",
              "    </tr>\n",
              "    <tr>\n",
              "      <th>Low HDL Cholesterol</th>\n",
              "      <td>2870</td>\n",
              "    </tr>\n",
              "    <tr>\n",
              "      <th>High LDL Cholesterol</th>\n",
              "      <td>2870</td>\n",
              "    </tr>\n",
              "    <tr>\n",
              "      <th>Alcohol Consumption</th>\n",
              "      <td>2870</td>\n",
              "    </tr>\n",
              "    <tr>\n",
              "      <th>Stress Level</th>\n",
              "      <td>2870</td>\n",
              "    </tr>\n",
              "    <tr>\n",
              "      <th>Sleep Hours</th>\n",
              "      <td>2870</td>\n",
              "    </tr>\n",
              "    <tr>\n",
              "      <th>Sugar Consumption</th>\n",
              "      <td>2870</td>\n",
              "    </tr>\n",
              "    <tr>\n",
              "      <th>Triglyceride Level</th>\n",
              "      <td>2870</td>\n",
              "    </tr>\n",
              "    <tr>\n",
              "      <th>Fasting Blood Sugar</th>\n",
              "      <td>2870</td>\n",
              "    </tr>\n",
              "    <tr>\n",
              "      <th>CRP Level</th>\n",
              "      <td>2870</td>\n",
              "    </tr>\n",
              "    <tr>\n",
              "      <th>Homocysteine Level</th>\n",
              "      <td>2870</td>\n",
              "    </tr>\n",
              "    <tr>\n",
              "      <th>Heart Disease Status</th>\n",
              "      <td>2870</td>\n",
              "    </tr>\n",
              "  </tbody>\n",
              "</table>\n",
              "</div><br><label><b>dtype:</b> int64</label>"
            ]
          },
          "metadata": {},
          "execution_count": 33
        }
      ]
    },
    {
      "cell_type": "markdown",
      "source": [
        "## **1.5 Visualizing Target Class Balance Before & After Cleaning**"
      ],
      "metadata": {
        "id": "TZSqP3c0o4fc"
      }
    },
    {
      "cell_type": "code",
      "source": [
        "plt.figure(figsize=(12,5))\n",
        "\n",
        "plt.subplot(1,2,1)\n",
        "df['Heart Disease Status'].value_counts().plot(kind='bar', color='skyblue')\n",
        "plt.title(\"Class Distribution Before Cleaning\")\n",
        "\n",
        "plt.subplot(1,2,2)\n",
        "df_balanced['Heart Disease Status'].value_counts().plot(kind='bar', color='salmon')\n",
        "plt.title(\"Class Distribution After Cleaning\")\n",
        "\n",
        "plt.show()\n"
      ],
      "metadata": {
        "colab": {
          "base_uri": "https://localhost:8080/",
          "height": 485
        },
        "id": "RM20U1dWnmqy",
        "outputId": "2125254e-7bc9-404e-d6e5-79e5ec81ff1b"
      },
      "execution_count": 9,
      "outputs": [
        {
          "output_type": "display_data",
          "data": {
            "text/plain": [
              "<Figure size 1200x500 with 2 Axes>"
            ],
            "image/png": "[encoded data removed]"
          },
          "metadata": {}
        }
      ]
    }
  ]
}